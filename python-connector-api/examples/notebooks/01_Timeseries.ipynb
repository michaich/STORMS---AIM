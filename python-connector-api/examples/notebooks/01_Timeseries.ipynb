{
 "cells": [
  {
   "cell_type": "markdown",
   "metadata": {},
   "source": [
    "# Timeseries"
   ]
  },
  {
   "cell_type": "markdown",
   "metadata": {},
   "source": [
    "First you have to import the meteomatics module and the datetime module"
   ]
  },
  {
   "cell_type": "code",
   "execution_count": 1,
   "metadata": {
    "collapsed": true
   },
   "outputs": [],
   "source": [
    "import datetime as dt\n",
    "import meteomatics.api as api"
   ]
  },
  {
   "cell_type": "markdown",
   "metadata": {},
   "source": [
    "Input here your username and password from your meteomatics profile"
   ]
  },
  {
   "cell_type": "code",
   "execution_count": 2,
   "metadata": {
    "collapsed": true
   },
   "outputs": [],
   "source": [
    "###Credentials:\n",
    "username = 'python-community'\n",
    "password = 'Umivipawe179'"
   ]
  },
  {
   "cell_type": "markdown",
   "metadata": {},
   "source": [
    "Input here a startdate, an enddate and the time interval, all as datetime-objects. The interval tells you, if you get the data in hourly steps, daily steps or every five minutes in between the startdate and the enddate."
   ]
  },
  {
   "cell_type": "code",
   "execution_count": 3,
   "metadata": {
    "collapsed": true
   },
   "outputs": [],
   "source": [
    "now = dt.datetime.utcnow().replace(hour=0, minute=0, second=0, microsecond=0)\n",
    "startdate_ts = now\n",
    "enddate_ts = startdate_ts + dt.timedelta(days=1)\n",
    "interval_ts = dt.timedelta(hours=1)"
   ]
  },
  {
   "cell_type": "markdown",
   "metadata": {},
   "source": [
    "Put the coordinates you want to get as tuples (north/east) in a list. If you want to get coordinates in the south or in the west, just write a minus in front of the number."
   ]
  },
  {
   "cell_type": "code",
   "execution_count": 4,
   "metadata": {
    "collapsed": true
   },
   "outputs": [],
   "source": [
    "coordinates_ts = [(47.25,9.34), (30,-4)]"
   ]
  },
  {
   "cell_type": "markdown",
   "metadata": {},
   "source": [
    "Choose the parameters you want to get and write them in the list. Check here which parameters are available: https://www.meteomatics.com/en/api/available-parameters/"
   ]
  },
  {
   "cell_type": "code",
   "execution_count": 5,
   "metadata": {
    "collapsed": true
   },
   "outputs": [],
   "source": [
    "parameters_ts = ['t_2m:C', 'precip_1h:mm']"
   ]
  },
  {
   "cell_type": "markdown",
   "metadata": {},
   "source": [
    "In the following, the request will start. If there is an error in the request as for example a wrong parameter or a date that doesn't exist, you get a message."
   ]
  },
  {
   "cell_type": "code",
   "execution_count": 6,
   "metadata": {
    "scrolled": false
   },
   "outputs": [
    {
     "name": "stdout",
     "output_type": "stream",
     "text": [
      "\n",
      "time series:\n",
      "2019-05-08 15:39:32| INFO |Calling URL: https://api.meteomatics.com/2019-05-08T00:00:00+00:00--2019-05-09T00:00:00+00:00:PT1H/t_2m:C,precip_1h:mm/47.25,9.34+30,-4/bin?connector=python_2.0.1 (username = python-community)\n",
      "                                      t_2m:C  precip_1h:mm\n",
      "lat   lon  validdate                                      \n",
      "47.25 9.34 2019-05-08 00:00:00+00:00    -1.5          0.00\n",
      "           2019-05-08 01:00:00+00:00    -1.8          0.00\n",
      "           2019-05-08 02:00:00+00:00    -1.2          0.00\n",
      "           2019-05-08 03:00:00+00:00    -2.3          0.02\n",
      "           2019-05-08 04:00:00+00:00    -1.7          0.12\n"
     ]
    }
   ],
   "source": [
    "print(\"time series:\")\n",
    "try:\n",
    "    df_ts = api.query_time_series(coordinates_ts, startdate_ts, enddate_ts, interval_ts,\n",
    "                                  parameters_ts, username, password)\n",
    "    print (df_ts.head())\n",
    "except Exception as e:\n",
    "    print(\"Failed, the exception is {}\".format(e))"
   ]
  },
  {
   "cell_type": "markdown",
   "metadata": {},
   "source": [
    "As output you get a pandas dataframe. The latitude, longitude and the date are in the index, the parameter is a column name.\n",
    "\n",
    "![01_timeseries_output](api_demo_images/01_timeseries_output.png)"
   ]
  },
  {
   "cell_type": "markdown",
   "metadata": {},
   "source": [
    "Now you can work on the data by using pandas commands. Here are some examples how you can access to the different datapoints."
   ]
  },
  {
   "cell_type": "code",
   "execution_count": 7,
   "metadata": {
    "collapsed": true,
    "scrolled": true
   },
   "outputs": [],
   "source": [
    "maximum_temperature = df_ts['t_2m:C'].max()\n",
    "minimum_temperature = df_ts['t_2m:C'].min()\n",
    "mean_temperature = df_ts['t_2m:C'].mean()\n",
    "just_precipitation = df_ts['precip_1h:mm']\n",
    "first_value_of_precipitation = df_ts.iloc[0]['precip_1h:mm']\n",
    "just_at_12UTC = df_ts[df_ts.index.get_level_values('validdate').hour == 12]\n",
    "just_at_4degrees_south = df_ts[df_ts.index.get_level_values('lon') == -4]"
   ]
  }
 ],
 "metadata": {
  "kernelspec": {
   "display_name": "Python 2",
   "language": "python",
   "name": "python2"
  },
  "language_info": {
   "codemirror_mode": {
    "name": "ipython",
    "version": 2
   },
   "file_extension": ".py",
   "mimetype": "text/x-python",
   "name": "python",
   "nbconvert_exporter": "python",
   "pygments_lexer": "ipython2",
   "version": "2.7.15"
  }
 },
 "nbformat": 4,
 "nbformat_minor": 2
}
