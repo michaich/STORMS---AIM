{
 "cells": [
  {
   "cell_type": "markdown",
   "metadata": {},
   "source": [
    "# PNG Timeseries"
   ]
  },
  {
   "cell_type": "markdown",
   "metadata": {},
   "source": [
    "First you have to import the meteomatics module and the datetime module"
   ]
  },
  {
   "cell_type": "code",
   "execution_count": 1,
   "metadata": {
    "collapsed": true
   },
   "outputs": [],
   "source": [
    "import datetime as dt\n",
    "import meteomatics.api as api"
   ]
  },
  {
   "cell_type": "markdown",
   "metadata": {},
   "source": [
    "Input here your username and password from your meteomatics profile"
   ]
  },
  {
   "cell_type": "code",
   "execution_count": 2,
   "metadata": {
    "collapsed": true
   },
   "outputs": [],
   "source": [
    "###Credentials:\n",
    "username = 'python-community'\n",
    "password = 'Umivipawe179'"
   ]
  },
  {
   "cell_type": "markdown",
   "metadata": {},
   "source": [
    "Input here the limiting coordinates of the extract you want to look at. You can also change the resolution."
   ]
  },
  {
   "cell_type": "code",
   "execution_count": 3,
   "metadata": {
    "collapsed": true
   },
   "outputs": [],
   "source": [
    "lat_N = 55\n",
    "lon_W = -5\n",
    "lat_S = 35\n",
    "lon_E = 15\n",
    "res_lat = 0.05\n",
    "res_lon = 0.05"
   ]
  },
  {
   "cell_type": "markdown",
   "metadata": {},
   "source": [
    "Input here the directory, where you want the timeseries to be saved. Leave it empty, if they should be saved directly in your working directory. The directory must already exist."
   ]
  },
  {
   "cell_type": "code",
   "execution_count": 4,
   "metadata": {
    "collapsed": true
   },
   "outputs": [],
   "source": [
    "prefixpath_png_ts = 'test'  # TODO"
   ]
  },
  {
   "cell_type": "markdown",
   "metadata": {},
   "source": [
    "Input here the startdate, enddate and the timeinterval as datetime objects. "
   ]
  },
  {
   "cell_type": "code",
   "execution_count": 5,
   "metadata": {
    "collapsed": true
   },
   "outputs": [],
   "source": [
    "now = dt.datetime.utcnow().replace(hour=0, minute=0, second=0, microsecond=0)\n",
    "startdate_png_ts = now\n",
    "enddate_png_ts = startdate_png_ts + dt.timedelta(days=2)\n",
    "interval_png_ts = dt.timedelta(hours=12)"
   ]
  },
  {
   "cell_type": "markdown",
   "metadata": {},
   "source": [
    "Choose the parameter you want to get. You can only chose one parameter at a time. Check here which parameters are available: https://www.meteomatics.com/en/api/available-parameters/"
   ]
  },
  {
   "cell_type": "code",
   "execution_count": 6,
   "metadata": {
    "collapsed": true
   },
   "outputs": [],
   "source": [
    "parameter_png_ts = 'relative_humidity_2m:p'"
   ]
  },
  {
   "cell_type": "markdown",
   "metadata": {},
   "source": [
    "In the following, the request will start. If there is an error in the request as for example a wrong parameter or a date that doesn't exist, you get a message."
   ]
  },
  {
   "cell_type": "code",
   "execution_count": 7,
   "metadata": {
    "scrolled": true
   },
   "outputs": [
    {
     "name": "stdout",
     "output_type": "stream",
     "text": [
      "\n",
      "png timeseries:\n",
      "2019-04-10 14:15:19| INFO |Calling URL: https://api.meteomatics.com/2019-04-10T00:00:00+00:00/relative_humidity_2m:p/55,-5_35,15:0.05,0.05/png?connector=python_2.0.1 (username = python-community)\n",
      "Failed, the exception is [Errno 2] No such file or directory: 'test/relative_humidity_2m_p_20190410_000000.png'\n"
     ]
    }
   ],
   "source": [
    "print(\"png timeseries:\")\n",
    "try:\n",
    "    api.query_png_timeseries(prefixpath_png_ts, startdate_png_ts, enddate_png_ts, interval_png_ts, parameter_png_ts,\n",
    "                             lat_N, lon_W, lat_S, lon_E, res_lat, res_lon, username, password)\n",
    "except Exception as e:\n",
    "    print(\"Failed, the exception is {}\".format(e))"
   ]
  },
  {
   "cell_type": "markdown",
   "metadata": {},
   "source": [
    "As output you get one png for every time step. Your png files are saved into the directory you assigned before. The name of the png consists of “parameter_date_time.png”.\n",
    "If the picture is too small, make the resolution smaller. Hence, there are more points on the same distance and the picture gets bigger, but it also takes more time to generate the picture.\n",
    "\n",
    "![06_grid](api_demo_images/06_grid.png)"
   ]
  }
 ],
 "metadata": {
  "kernelspec": {
   "display_name": "Python 2",
   "language": "python",
   "name": "python2"
  },
  "language_info": {
   "codemirror_mode": {
    "name": "ipython",
    "version": 2
   },
   "file_extension": ".py",
   "mimetype": "text/x-python",
   "name": "python",
   "nbconvert_exporter": "python",
   "pygments_lexer": "ipython2",
   "version": "2.7.15"
  }
 },
 "nbformat": 4,
 "nbformat_minor": 2
}
