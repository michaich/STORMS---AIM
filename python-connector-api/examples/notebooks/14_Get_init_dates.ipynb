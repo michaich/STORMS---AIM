{
 "cells": [
  {
   "cell_type": "markdown",
   "metadata": {},
   "source": [
    "# Get init dates"
   ]
  },
  {
   "cell_type": "markdown",
   "metadata": {},
   "source": [
    "First you have to import the meteomatics module and the datetime module"
   ]
  },
  {
   "cell_type": "code",
   "execution_count": 1,
   "metadata": {
    "collapsed": true
   },
   "outputs": [],
   "source": [
    "import datetime as dt\n",
    "import meteomatics.api as api"
   ]
  },
  {
   "cell_type": "markdown",
   "metadata": {},
   "source": [
    "Input here your username and password from your meteomatics profile"
   ]
  },
  {
   "cell_type": "code",
   "execution_count": 2,
   "metadata": {
    "collapsed": true
   },
   "outputs": [],
   "source": [
    "###Credentials:\n",
    "username = 'python-community'\n",
    "password = 'Umivipawe179'"
   ]
  },
  {
   "cell_type": "markdown",
   "metadata": {},
   "source": [
    "Input here todays date."
   ]
  },
  {
   "cell_type": "code",
   "execution_count": 3,
   "metadata": {
    "collapsed": true,
    "scrolled": true
   },
   "outputs": [],
   "source": [
    "now = dt.datetime.utcnow().replace(hour=0, minute=0, second=0, microsecond=0)"
   ]
  },
  {
   "cell_type": "markdown",
   "metadata": {},
   "source": [
    "In the following, the request will start.\n",
    "You can make some additional changes directly in the query for the api. You can change the parameter and the chosen model there. As output, you get a pandas data frame. You can see, from which model run your data is. If there is an error in the request as for example a wrong parameter or a date that doesn't exist, you get a message. Note, that this model is not available for the 'python-community' trial account."
   ]
  },
  {
   "cell_type": "code",
   "execution_count": 4,
   "metadata": {
    "scrolled": true
   },
   "outputs": [
    {
     "name": "stdout",
     "output_type": "stream",
     "text": [
      "\n",
      "get init dates:\n",
      "2019-04-10 14:22:38| INFO |Calling URL: https://api.meteomatics.com/get_init_date?model=ecmwf-ens&valid_date=2019-04-10T00:00:00+00:00--2019-04-12T00:00:00+00:00:PT3H&parameters=t_2m:C (username = python-community)\n",
      "Failed, the exception is Request with model ecmwf-ens is not granted with this subscription type (e.g. trial). Access for this account type is limited to model 'mix'. Please contact sales@meteomatics.com for an extended trial or an upgrade of your account.\n"
     ]
    }
   ],
   "source": [
    "print(\"get init dates:\")\n",
    "try:\n",
    "    df_init_dates = api.query_init_date(now, now + dt.timedelta(days=2), dt.timedelta(hours=3), 't_2m:C',\n",
    "                                        username, password, 'ecmwf-ens')\n",
    "    print(df_init_dates.head())\n",
    "except Exception as e:\n",
    "    print(\"Failed, the exception is {}\".format(e))"
   ]
  },
  {
   "cell_type": "markdown",
   "metadata": {},
   "source": [
    "As output you will get a pandas dataframe with the date as index.\n",
    "\n",
    "![14_get_init_dates_output](api_demo_images/14_get_init_dates_output.png)"
   ]
  }
 ],
 "metadata": {
  "kernelspec": {
   "display_name": "Python 2",
   "language": "python",
   "name": "python2"
  },
  "language_info": {
   "codemirror_mode": {
    "name": "ipython",
    "version": 2
   },
   "file_extension": ".py",
   "mimetype": "text/x-python",
   "name": "python",
   "nbconvert_exporter": "python",
   "pygments_lexer": "ipython2",
   "version": "2.7.15"
  }
 },
 "nbformat": 4,
 "nbformat_minor": 2
}
