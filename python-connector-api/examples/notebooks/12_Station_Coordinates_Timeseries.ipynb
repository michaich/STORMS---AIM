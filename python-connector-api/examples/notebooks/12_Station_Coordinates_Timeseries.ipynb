{
 "cells": [
  {
   "cell_type": "markdown",
   "metadata": {},
   "source": [
    "# Station Coordinates Timeseries"
   ]
  },
  {
   "cell_type": "markdown",
   "metadata": {},
   "source": [
    "First you have to import the meteomatics module and the datetime module"
   ]
  },
  {
   "cell_type": "code",
   "execution_count": 1,
   "metadata": {
    "collapsed": true
   },
   "outputs": [],
   "source": [
    "import datetime as dt\n",
    "import meteomatics.api as api"
   ]
  },
  {
   "cell_type": "markdown",
   "metadata": {},
   "source": [
    "Input here your username and password from your meteomatics profile"
   ]
  },
  {
   "cell_type": "code",
   "execution_count": 2,
   "metadata": {
    "collapsed": true
   },
   "outputs": [],
   "source": [
    "###Credentials:\n",
    "username = 'python-community'\n",
    "password = 'Umivipawe179'"
   ]
  },
  {
   "cell_type": "markdown",
   "metadata": {},
   "source": [
    "Input here a startdate, an enddate and the time interval, all as datetime-objects. The interval tells you, if you get the data in hourly steps, daily steps or every five minutes in between the startdate and the enddate. Be aware, that the enddate has to be in the past."
   ]
  },
  {
   "cell_type": "code",
   "execution_count": 3,
   "metadata": {
    "collapsed": true,
    "scrolled": true
   },
   "outputs": [],
   "source": [
    "startdate_station_ts = dt.datetime.utcnow().replace(hour=0, minute=0, second=0, microsecond=0)-dt.timedelta(days=2)\n",
    "enddate_station_ts = startdate_station_ts + dt.timedelta(days=1)\n",
    "interval_station_ts = dt.timedelta(hours=1)"
   ]
  },
  {
   "cell_type": "markdown",
   "metadata": {},
   "source": [
    "Choose the parameters you want to get and put them into a list. Check here which parameters are available: https://www.meteomatics.com/en/api/available-parameters/"
   ]
  },
  {
   "cell_type": "code",
   "execution_count": 4,
   "metadata": {
    "collapsed": true
   },
   "outputs": [],
   "source": [
    "parameters_station_ts = ['t_2m:C', 'relative_humidity_2m:p']"
   ]
  },
  {
   "cell_type": "markdown",
   "metadata": {},
   "source": [
    "Input here 'mix-obs' to get observational data."
   ]
  },
  {
   "cell_type": "code",
   "execution_count": 5,
   "metadata": {
    "collapsed": true
   },
   "outputs": [],
   "source": [
    "model_station_ts = 'mix-obs'"
   ]
  },
  {
   "cell_type": "markdown",
   "metadata": {},
   "source": [
    "Put the coordinates you want to get as tuples (north,east) in a list. If you want to get coordinates in the south or in the west, just write a minus in front of the number."
   ]
  },
  {
   "cell_type": "code",
   "execution_count": 6,
   "metadata": {
    "collapsed": true
   },
   "outputs": [],
   "source": [
    "coordinates_station_ts = [(47.43, 9.4)]"
   ]
  },
  {
   "cell_type": "markdown",
   "metadata": {},
   "source": [
    "In the following, the request will start. If there is an error in the request as for example a wrong parameter or a date that doesn't exist, you get a message. Note, that this model 'mix-obs' is not available for the 'python-community' trial account."
   ]
  },
  {
   "cell_type": "code",
   "execution_count": 7,
   "metadata": {
    "scrolled": true
   },
   "outputs": [
    {
     "name": "stdout",
     "output_type": "stream",
     "text": [
      "\n",
      "station coordinates timeseries:\n",
      "2019-05-08 14:20:41| INFO |Calling URL: https://api.meteomatics.com/2019-05-06T00:00:00+00:00--2019-05-07T00:00:00+00:00:PT1H (username = python-community)\n",
      "Failed, the exception is Request with valid date 2019-05-06 00:00:00 requires historic data access before 2019-05-07 00:00:00, which is not granted with this subscription type (e.g. trial). The valid time period for this account type starts at 2019-05-07 00:00:00. Please contact sales@meteomatics.com and we are happy to provide an extended trial or an upgrade of your account.\n"
     ]
    }
   ],
   "source": [
    "print(\"station coordinates timeseries:\")\n",
    "try:\n",
    "    df_sd_coord = api.query_station_timeseries(startdate_station_ts, enddate_station_ts, interval_station_ts,\n",
    "                                               parameters_station_ts, username, password, model=model_station_ts,\n",
    "                                               latlon_tuple_list=coordinates_station_ts, on_invalid='fill_with_invalid',\n",
    "                                               request_type=\"POST\", temporal_interpolation='none')\n",
    "    print(df_sd_coord.head())\n",
    "except Exception as e:\n",
    "    print(\"Failed, the exception is {}\".format(e))"
   ]
  },
  {
   "cell_type": "markdown",
   "metadata": {},
   "source": [
    "As output you get a pandas dataframe with the coordinates and the date in the index. You get the timeseries of the closest station to your coordinates.\n",
    "\n",
    "![12_station_coordinates_output](api_demo_images/12_station_coordinates_output.png)"
   ]
  },
  {
   "cell_type": "markdown",
   "metadata": {},
   "source": [
    "Now you can work on the data by using pandas commands. Here are some examples how you can access to the different datapoints."
   ]
  },
  {
   "cell_type": "code",
   "execution_count": null,
   "metadata": {},
   "outputs": [],
   "source": [
    "maximum_temperature = df_sd_coord['t_2m:C'].max()\n",
    "minimum_windspeed = df_sd_coord['wind_speed_10m:ms'].min()\n",
    "mean_temperature = df_sd_coord['t_2m:C'].mean()\n",
    "just_precipitation = df_sd_coord['precip_1h:mm']\n",
    "first_value_of_precipitation = df_sd_coord.iloc[0]['precip_1h:mm']\n",
    "just_at_12UTC = df_sd_coord[df_sd_coord.index.get_level_values('validdate').hour == 12]"
   ]
  }
 ],
 "metadata": {
  "kernelspec": {
   "display_name": "Python 2",
   "language": "python",
   "name": "python2"
  },
  "language_info": {
   "codemirror_mode": {
    "name": "ipython",
    "version": 2
   },
   "file_extension": ".py",
   "mimetype": "text/x-python",
   "name": "python",
   "nbconvert_exporter": "python",
   "pygments_lexer": "ipython2",
   "version": "2.7.15"
  }
 },
 "nbformat": 4,
 "nbformat_minor": 2
}
