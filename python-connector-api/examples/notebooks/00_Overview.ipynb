{
 "cells": [
  {
   "cell_type": "markdown",
   "metadata": {},
   "source": [
    "# Overview"
   ]
  },
  {
   "cell_type": "markdown",
   "metadata": {},
   "source": [
    "Here you get an overview of what the different queries are doing and what kind of output you can get. For further information on the different queries, you can go directly in the corresponding file."
   ]
  },
  {
   "cell_type": "markdown",
   "metadata": {},
   "source": [
    "## 01 [Timeseries](01_Timeseries.ipynb)\n",
    "This query provides you a timeseries of selected parameters for different locations.\n",
    "As output you get a pandas dataframe. The latitude, longitude and the date are in the index, the parameter is a column name.\n",
    "\n",
    "![01_timeseries_output](api_demo_images/01_timeseries_output.png)"
   ]
  },
  {
   "cell_type": "markdown",
   "metadata": {},
   "source": [
    "## 02 [Grid](02_Grid.ipynb)\n",
    "Here you can get a grid of one parameter over a certain area at exaclty one time step. As output you get a pandas dataframe. The index consists of the latitude, the columns of the longitude.\n",
    "\n",
    "![02_grid_output](api_demo_images/02_grid_output.png)"
   ]
  },
  {
   "cell_type": "markdown",
   "metadata": {},
   "source": [
    "## 03 [Grid Timeseries](03_Grid_Timeseries.ipynb)\n",
    "This query provides you a grid of selected parameters (timeseries) over a certain area. As output you get a pandas dataframe. The index consists of the latitude, the longitude and the date. The parameter is a column name. The grid timeseries is very similar to 04_unpivoted_grid, but the index is ordered in a different way.\n",
    "\n",
    "![03_grid_timeseries_output](api_demo_images/03_grid_timeseries_output.png)"
   ]
  },
  {
   "cell_type": "markdown",
   "metadata": {},
   "source": [
    "## 04 [Unpivoted Grid](04_Unpivoted_Grid.ipynb)\n",
    "Here you can get a grid of selected parameters (timeseries) over a certain area. As output you get a pandas dataframe. The date, latitude and longitude are in the index, the parameter is a column name. This looks similar to 01_timeseries, but in contrast it applies to a grid and not just to certain data points. It is also very similar to 03_grid_timeseries, but the index is ordered in a different way.\n",
    "\n",
    "![04_unpivoted_grid_output](api_demo_images/04_unpivoted_grid_output.png)"
   ]
  },
  {
   "cell_type": "markdown",
   "metadata": {},
   "source": [
    "## 05 [Grid as a PNG](05_Grid_as_a_png.ipynb)\n",
    "This query provides you the picture of one parameter in a certain area. As output you get a png.\n",
    "\n",
    "![05_grid_target](api_demo_images/05_grid_target.png)"
   ]
  },
  {
   "cell_type": "markdown",
   "metadata": {},
   "source": [
    "## 06 [PNG Timeseries](06_PNG_Timeseries.ipynb)\n",
    "This query provides you a timeseries of one parameter in a certain area. As output you get one image (png) for every time step.\n",
    "\n",
    "![06_grid](api_demo_images/06_grid.png)"
   ]
  },
  {
   "cell_type": "markdown",
   "metadata": {},
   "source": [
    "## 07 [Lightning Strikes](07_Lightning_Strikes.ipynb)\n",
    "Here you can find out, when and where a lightning strike occured in a certain area. You will get the data as a pandas dataframe. The index is made out of the validate, the latitude and the longitude. The column represents the stroke current. There are just events with lightning in the data frame. Time and points without lightning are not mentioned.\n",
    "\n",
    "![07_lightning_strikes_output](api_demo_images/07_lightning_strikes_output.png)"
   ]
  },
  {
   "cell_type": "markdown",
   "metadata": {},
   "source": [
    "## 08 [NetCDF file](08_Net_CDF_file.ipynb)\n",
    "This query provides you a timeseries of one parameter over a certain area.\n",
    "You will get the data as a netCDF file. This is a common file format to share climatological data. You need to have a special program to be able to visualize it, as shown here.\n",
    "\n",
    "![08_net_cdf_file_output](api_demo_images/08_net_cdf_file_output.png)"
   ]
  },
  {
   "cell_type": "markdown",
   "metadata": {},
   "source": [
    "## 09 [Grads plot](09_Grids_Plot.ipynb)\n",
    "Here you can get a grads plot of two parameters in a selected area. As output you get a grads plot.\n",
    "\n",
    "![09_grads_target](api_demo_images/09_grads_target.png)"
   ]
  },
  {
   "cell_type": "markdown",
   "metadata": {},
   "source": [
    "## 10 [Grads Timeseries](10_Grads_Timeseries.ipynb)\n",
    "Here you can get a timeseries of grads plots of two parameters in a selected area. As output you get a series of grads plots.\n",
    "\n",
    "![10_grads_target2](api_demo_images/10_grads_target2.png)"
   ]
  },
  {
   "cell_type": "markdown",
   "metadata": {},
   "source": [
    "## 11 [Find Stations](11_Find_Stations.ipynb)\n",
    "With this query you can find stations that fit to your requirements. As output you get a pandas dataframe filled with stations. The best matching stations to your request appear on top.\n",
    "\n",
    "![11_find_stations_output](api_demo_images/11_find_stations_output.png)"
   ]
  },
  {
   "cell_type": "markdown",
   "metadata": {},
   "source": [
    "## 12 [Station Coordinates Timeseries](12_Station_Coordinates_Timeseries.ipynb)\n",
    "This query provides you a timeseries of measured parameters in a location. As output you get a pandas dataframe with the coordinates and the date in the index. You get the timeseries of the closest station to your coordinates.\n",
    "\n",
    "![12_station_coordinates_output](api_demo_images/12_station_coordinates_output.png)"
   ]
  },
  {
   "cell_type": "markdown",
   "metadata": {},
   "source": [
    "## 13 [Station WMO Metar](13_Station_WMO_Metar.ipynb)\n",
    "Here you can get a timeseries of measured parameters at different station. As output you get a pandas dataframe with the station-id and the date in the index.\n",
    "\n",
    "![13_station_wmo_metar_output](api_demo_images/13_station_wmo_metar_output.png)"
   ]
  },
  {
   "cell_type": "markdown",
   "metadata": {},
   "source": [
    "## 14 [Get init dates](14_Get_init_dates.ipynb)\n",
    "This query provides you with the date and time of the model that is used. As output you will get a pandas dataframe with the date as index.\n",
    "\n",
    "![14_get_init_dates_output](api_demo_images/14_get_init_dates_output.png)"
   ]
  },
  {
   "cell_type": "markdown",
   "metadata": {},
   "source": [
    "## 15 [Get available timerange](15_Get_available_time_range.ipynb)\n",
    "With this query you can find out which time range is available for a selected model. As output you get a pandas dataframe which shows the initial date of the parameter in the model and the last date available.\n",
    "\n",
    "![15_get_available_time_range_output](api_demo_images/15_get_available_time_range_output.png)"
   ]
  }
 ],
 "metadata": {
  "kernelspec": {
   "display_name": "Python 2",
   "language": "python",
   "name": "python2"
  },
  "language_info": {
   "codemirror_mode": {
    "name": "ipython",
    "version": 2.0
   },
   "file_extension": ".py",
   "mimetype": "text/x-python",
   "name": "python",
   "nbconvert_exporter": "python",
   "pygments_lexer": "ipython2",
   "version": "2.7.15"
  }
 },
 "nbformat": 4,
 "nbformat_minor": 0
}