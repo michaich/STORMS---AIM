{
 "cells": [
  {
   "cell_type": "markdown",
   "metadata": {},
   "source": [
    "# Station WMO Metar"
   ]
  },
  {
   "cell_type": "markdown",
   "metadata": {},
   "source": [
    "First you have to import the meteomatics module and the datetime module"
   ]
  },
  {
   "cell_type": "code",
   "execution_count": 1,
   "metadata": {
    "collapsed": true
   },
   "outputs": [],
   "source": [
    "import datetime as dt\n",
    "import meteomatics.api as api"
   ]
  },
  {
   "cell_type": "markdown",
   "metadata": {},
   "source": [
    "Input here your username and password from your meteomatics profile"
   ]
  },
  {
   "cell_type": "code",
   "execution_count": 2,
   "metadata": {
    "collapsed": true
   },
   "outputs": [],
   "source": [
    "###Credentials:\n",
    "username = 'python-community'\n",
    "password = 'Umivipawe179'"
   ]
  },
  {
   "cell_type": "markdown",
   "metadata": {},
   "source": [
    "Input here a startdate, an enddate and the time interval, all as datetime-objects. The interval tells you, if you get the data in hourly steps, daily steps or every five minutes in between the startdate and the enddate. Note that the enddate has to be in the past."
   ]
  },
  {
   "cell_type": "code",
   "execution_count": 3,
   "metadata": {
    "collapsed": true,
    "scrolled": true
   },
   "outputs": [],
   "source": [
    "startdate_station_ts = dt.datetime.utcnow().replace(hour=0, minute=0, second=0, microsecond=0)-dt.timedelta(days=2)\n",
    "enddate_station_ts = startdate_station_ts + dt.timedelta(days=2)\n",
    "interval_station_ts = dt.timedelta(hours=1)"
   ]
  },
  {
   "cell_type": "markdown",
   "metadata": {},
   "source": [
    "Choose the parameters you want to get and put them into a list. Check here which parameters are available: https://www.meteomatics.com/en/api/available-parameters/"
   ]
  },
  {
   "cell_type": "code",
   "execution_count": 4,
   "metadata": {
    "collapsed": true
   },
   "outputs": [],
   "source": [
    "parameters_station_ts = ['t_2m:C', 'precip_1h:mm']"
   ]
  },
  {
   "cell_type": "markdown",
   "metadata": {},
   "source": [
    "Input here 'mix-obs' to get observational data."
   ]
  },
  {
   "cell_type": "code",
   "execution_count": 5,
   "metadata": {
    "collapsed": true
   },
   "outputs": [],
   "source": [
    "model_station_ts = 'mix-obs'"
   ]
  },
  {
   "cell_type": "markdown",
   "metadata": {},
   "source": [
    "Input here the ID of the station(s) you want to get. You can find the ID through \"Find Stations\". If you have no indications for a certain station-type, just write None."
   ]
  },
  {
   "cell_type": "code",
   "execution_count": 6,
   "metadata": {
    "collapsed": true
   },
   "outputs": [],
   "source": [
    "wmo_stations = ['066810']\n",
    "metar_stations = ['EDDF']\n",
    "mch_stations = None #['SCU']"
   ]
  },
  {
   "cell_type": "markdown",
   "metadata": {},
   "source": [
    "In the following, the request will start. If there is an error in the request as for example a wrong parameter or a date that doesn't exist, you get a message. Note, that this model 'mix-obs' is not available for the 'python-community' trial account."
   ]
  },
  {
   "cell_type": "code",
   "execution_count": 7,
   "metadata": {
    "scrolled": true
   },
   "outputs": [
    {
     "name": "stdout",
     "output_type": "stream",
     "text": [
      "\n",
      "station wmo + metar ids timeseries:\n",
      "2019-04-10 14:22:19| INFO |Calling URL: https://api.meteomatics.com/2019-04-08T00:00:00+00:00--2019-04-10T00:00:00+00:00:PT1H (username = python-community)\n",
      "Failed, the exception is Request with valid date 2019-04-08 00:00:00 requires historic data access before 2019-04-09 00:00:00, which is not granted with this subscription type (e.g. trial). The valid time period for this account type starts at 2019-04-09 00:00:00. Please contact sales@meteomatics.com and we are happy to provide an extended trial or an upgrade of your account.\n"
     ]
    }
   ],
   "source": [
    "print(\"station wmo + metar ids timeseries:\")\n",
    "try:\n",
    "    df_sd_ids = api.query_station_timeseries(startdate_station_ts, enddate_station_ts, interval_station_ts,\n",
    "                                             parameters_station_ts, username, password, model=model_station_ts,\n",
    "                                             wmo_ids=wmo_stations, metar_ids=metar_stations, mch_ids=mch_stations,\n",
    "                                             on_invalid='fill_with_invalid', request_type=\"POST\", temporal_interpolation='none')\n",
    "    print(df_sd_ids.head())\n",
    "except Exception as e:\n",
    "    print(\"Failed, the exception is {}\".format(e))"
   ]
  },
  {
   "cell_type": "markdown",
   "metadata": {},
   "source": [
    "As output you get a pandas dataframe with the station-id and the date in the index.\n",
    "\n",
    "![13_station_wmo_metar_output](api_demo_images/13_station_wmo_metar_output.png)"
   ]
  },
  {
   "cell_type": "markdown",
   "metadata": {},
   "source": [
    "Now you can work on the data by using pandas commands. Here are some examples how you can access to the different datapoints."
   ]
  },
  {
   "cell_type": "code",
   "execution_count": null,
   "metadata": {
    "collapsed": true
   },
   "outputs": [],
   "source": [
    "maximum_temperature = df_sd_ids['t_2m:C'].max()\n",
    "minimum_temperature = df_sd_ids['t_2m:C'].min()\n",
    "mean_temperature = df_sd_ids['t_2m:C'].mean()\n",
    "just_precipitation = df_sd_ids['precip_1h:mm']\n",
    "first_value_of_precipitation = df_sd_ids.iloc[0]['precip_1h:mm']\n",
    "just_at_12UTC = df_sd_ids[df_sd_ids.index.get_level_values('validdate').hour == 12]\n",
    "just_EDDF_station = df_sd_ids[df_sd_ids.index.get_level_values('station_id').str.contains('EDDF')]"
   ]
  }
 ],
 "metadata": {
  "kernelspec": {
   "display_name": "Python 2",
   "language": "python",
   "name": "python2"
  },
  "language_info": {
   "codemirror_mode": {
    "name": "ipython",
    "version": 2
   },
   "file_extension": ".py",
   "mimetype": "text/x-python",
   "name": "python",
   "nbconvert_exporter": "python",
   "pygments_lexer": "ipython2",
   "version": "2.7.15"
  }
 },
 "nbformat": 4,
 "nbformat_minor": 2
}
