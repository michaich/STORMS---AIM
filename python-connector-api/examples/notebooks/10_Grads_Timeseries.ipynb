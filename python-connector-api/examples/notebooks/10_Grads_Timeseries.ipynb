{
 "cells": [
  {
   "cell_type": "markdown",
   "metadata": {},
   "source": [
    "# Grads Timeseries"
   ]
  },
  {
   "cell_type": "markdown",
   "metadata": {},
   "source": [
    "First you have to import the meteomatics module and the datetime module"
   ]
  },
  {
   "cell_type": "code",
   "execution_count": 1,
   "metadata": {
    "collapsed": true
   },
   "outputs": [],
   "source": [
    "import datetime as dt\n",
    "import meteomatics.api as api"
   ]
  },
  {
   "cell_type": "markdown",
   "metadata": {},
   "source": [
    "Input here your username and password from your meteomatics profile"
   ]
  },
  {
   "cell_type": "code",
   "execution_count": 2,
   "metadata": {
    "collapsed": true
   },
   "outputs": [],
   "source": [
    "###Credentials:\n",
    "username = 'python-community'\n",
    "password = 'Umivipawe179'"
   ]
  },
  {
   "cell_type": "markdown",
   "metadata": {},
   "source": [
    "Input here the limiting coordinates of the extract you want to look at. You can also change the resolution."
   ]
  },
  {
   "cell_type": "code",
   "execution_count": 3,
   "metadata": {
    "collapsed": true
   },
   "outputs": [],
   "source": [
    "lat_N = 50\n",
    "lon_W = -5\n",
    "lat_S = 40\n",
    "lon_E = 5\n",
    "res_lat = 0.5\n",
    "res_lon = 0.5"
   ]
  },
  {
   "cell_type": "markdown",
   "metadata": {},
   "source": [
    "Input here a predefined area such as world, europe, switzerland or mediterranean-sea (Find here a list of possible predefined areas https://www.meteomatics.com/en/api/request/#required-parameters). If there is an input, the coordinates you defined are ignored. If you want to use the coordinates, set the area to None."
   ]
  },
  {
   "cell_type": "code",
   "execution_count": 4,
   "metadata": {
    "collapsed": true
   },
   "outputs": [],
   "source": [
    "area_grads_ts = 'europe'"
   ]
  },
  {
   "cell_type": "markdown",
   "metadata": {},
   "source": [
    "Name a directory where the grad plots are saved afterwards. If the directory doesn't exist yet, the query will create it."
   ]
  },
  {
   "cell_type": "code",
   "execution_count": 5,
   "metadata": {
    "collapsed": true
   },
   "outputs": [],
   "source": [
    "prefixpath_grads_ts = 'grad_plots'"
   ]
  },
  {
   "cell_type": "markdown",
   "metadata": {},
   "source": [
    "Input here a startdate, an enddate and the time interval, all as datetime-objects. The interval tells you, if you get the data in hourly steps, daily steps or every five minutes in between the startdate and the enddate."
   ]
  },
  {
   "cell_type": "code",
   "execution_count": 6,
   "metadata": {
    "collapsed": true,
    "scrolled": true
   },
   "outputs": [],
   "source": [
    "startdate_grads_ts = dt.datetime.utcnow().replace(hour=0, minute=0, second=0, microsecond=0)\n",
    "enddate_grads_ts = startdate_grads_ts + dt.timedelta(days=1)\n",
    "interval_grads_ts = dt.timedelta(hours=12)"
   ]
  },
  {
   "cell_type": "markdown",
   "metadata": {},
   "source": [
    "Choose the parameters you want to get and put them into a list. Check here which parameters are available: https://www.meteomatics.com/en/api/available-parameters/\n",
    "\n",
    "For grads the following combinations are popular:\n",
    "+ 500hPa temperature und geopotential height\n",
    "+ wind speed in both directions (u & v)\n",
    "+ cloud cover and precipitation"
   ]
  },
  {
   "cell_type": "code",
   "execution_count": 7,
   "metadata": {
    "collapsed": true
   },
   "outputs": [],
   "source": [
    "parameters_grads_ts = ['wind_speed_u_100m:ms', 'wind_speed_v_100m:ms']"
   ]
  },
  {
   "cell_type": "markdown",
   "metadata": {},
   "source": [
    "Input here the model."
   ]
  },
  {
   "cell_type": "code",
   "execution_count": 8,
   "metadata": {
    "collapsed": true
   },
   "outputs": [],
   "source": [
    "model_grads_ts = 'mix'"
   ]
  },
  {
   "cell_type": "markdown",
   "metadata": {},
   "source": [
    "In the following, the request will start. If there is an error in the request as for example a wrong parameter or a date that doesn't exist, you get a message."
   ]
  },
  {
   "cell_type": "code",
   "execution_count": 9,
   "metadata": {
    "scrolled": true
   },
   "outputs": [
    {
     "name": "stdout",
     "output_type": "stream",
     "text": [
      "\n",
      "Grads timeseries:\n",
      "2019-04-10 14:29:08| INFO |Calling URL: https://api.meteomatics.com/2019-04-10T00:00:00+00:00/wind_speed_u_100m:ms,wind_speed_v_100m:ms/europe/grads?model=mix&connector=python_2.0.1 (username = python-community)\n",
      "2019-04-10 14:29:10| INFO |Create File grad_plots/wind_speed_u_100m_ms_wind_speed_v_100m_ms_20190410_000000.png\n",
      "2019-04-10 14:29:10| INFO |Calling URL: https://api.meteomatics.com/2019-04-10T12:00:00+00:00/wind_speed_u_100m:ms,wind_speed_v_100m:ms/europe/grads?model=mix&connector=python_2.0.1 (username = python-community)\n",
      "2019-04-10 14:29:13| INFO |Create File grad_plots/wind_speed_u_100m_ms_wind_speed_v_100m_ms_20190410_120000.png\n",
      "2019-04-10 14:29:14| INFO |Calling URL: https://api.meteomatics.com/2019-04-11T00:00:00+00:00/wind_speed_u_100m:ms,wind_speed_v_100m:ms/europe/grads?model=mix&connector=python_2.0.1 (username = python-community)\n",
      "2019-04-10 14:29:17| INFO |Create File grad_plots/wind_speed_u_100m_ms_wind_speed_v_100m_ms_20190411_000000.png\n",
      "prefix = grad_plots\n"
     ]
    }
   ],
   "source": [
    "print(\"Grads timeseries:\")\n",
    "try:\n",
    "    api.query_grads_timeseries(prefixpath_grads_ts, startdate_grads_ts, enddate_grads_ts, interval_grads_ts,\n",
    "                               parameters_grads_ts, lat_N, lon_W, lat_S, lon_E, res_lat, res_lon, username,\n",
    "                               password, model=model_grads_ts, area=area_grads_ts)\n",
    "    print(\"prefix = {}\".format(prefixpath_grads_ts))\n",
    "except Exception as e:\n",
    "    print(\"Failed, the exception is {}\".format(e))"
   ]
  },
  {
   "cell_type": "markdown",
   "metadata": {},
   "source": [
    "As output you get a series of grads plots.\n",
    "\n",
    "![10_grads_target2](api_demo_images/10_grads_target2.png)"
   ]
  }
 ],
 "metadata": {
  "kernelspec": {
   "display_name": "Python 2",
   "language": "python",
   "name": "python2"
  },
  "language_info": {
   "codemirror_mode": {
    "name": "ipython",
    "version": 2
   },
   "file_extension": ".py",
   "mimetype": "text/x-python",
   "name": "python",
   "nbconvert_exporter": "python",
   "pygments_lexer": "ipython2",
   "version": "2.7.15"
  }
 },
 "nbformat": 4,
 "nbformat_minor": 2
}
