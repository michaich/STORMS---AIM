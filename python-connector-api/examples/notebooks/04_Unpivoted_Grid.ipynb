{
 "cells": [
  {
   "cell_type": "markdown",
   "metadata": {},
   "source": [
    "# Unpivoted Grid"
   ]
  },
  {
   "cell_type": "markdown",
   "metadata": {},
   "source": [
    "The unpivoted grid gives you basically the same results as the 03_grid_timeseries, but the datapoints are listed up differently due to index settings."
   ]
  },
  {
   "cell_type": "markdown",
   "metadata": {},
   "source": [
    "First you have to import the meteomatics module and the datetime module"
   ]
  },
  {
   "cell_type": "code",
   "execution_count": 1,
   "metadata": {
    "collapsed": true
   },
   "outputs": [],
   "source": [
    "import datetime as dt\n",
    "import meteomatics.api as api"
   ]
  },
  {
   "cell_type": "markdown",
   "metadata": {},
   "source": [
    "Input here your username and password from your meteomatics profile"
   ]
  },
  {
   "cell_type": "code",
   "execution_count": 2,
   "metadata": {
    "collapsed": true
   },
   "outputs": [],
   "source": [
    "###Credentials:\n",
    "username = 'python-community'\n",
    "password = 'Umivipawe179'"
   ]
  },
  {
   "cell_type": "markdown",
   "metadata": {},
   "source": [
    "Here you can define the limiting coordinates of the extract you want to look at. You can also change the resolution."
   ]
  },
  {
   "cell_type": "code",
   "execution_count": 3,
   "metadata": {
    "collapsed": true
   },
   "outputs": [],
   "source": [
    "lat_N = 50\n",
    "lon_W = 0\n",
    "lat_S = 45\n",
    "lon_E = 5\n",
    "res_lat = 1\n",
    "res_lon = 1"
   ]
  },
  {
   "cell_type": "markdown",
   "metadata": {},
   "source": [
    "Choose the parameters you want to get and write them in the list. Check here which parameters are available: https://www.meteomatics.com/en/api/available-parameters/"
   ]
  },
  {
   "cell_type": "code",
   "execution_count": 4,
   "metadata": {
    "collapsed": true
   },
   "outputs": [],
   "source": [
    "parameters_grid_unpiv = ['precip_1h:mm', 'low_cloud_cover:p']"
   ]
  },
  {
   "cell_type": "markdown",
   "metadata": {},
   "source": [
    "Put the datetimes you want in a list. You can just put one datetime or several, but they have to be listed up."
   ]
  },
  {
   "cell_type": "code",
   "execution_count": 5,
   "metadata": {
    "collapsed": true
   },
   "outputs": [],
   "source": [
    "valid_dates_unpiv = [dt.datetime.utcnow(), dt.datetime.utcnow() + dt.timedelta(days=1), dt.datetime.utcnow() + dt.timedelta(days=2)]"
   ]
  },
  {
   "cell_type": "markdown",
   "metadata": {},
   "source": [
    "In the following, the request will start. If there is an error in the request as for example a wrong parameter or a date that doesn't exist, you get a message."
   ]
  },
  {
   "cell_type": "code",
   "execution_count": 6,
   "metadata": {
    "scrolled": true
   },
   "outputs": [
    {
     "name": "stdout",
     "output_type": "stream",
     "text": [
      "\n",
      "unpivoted grid:\n",
      "2019-04-10 14:11:51| INFO |Calling URL: https://api.meteomatics.com/2019-04-10T12:11:51.537403+00:00/precip_1h:mm/50,0_45,5:1,1/bin?connector=python_2.0.1 (username = python-community)\n",
      "2019-04-10 14:11:51| INFO |Calling URL: https://api.meteomatics.com/2019-04-10T12:11:51.537403+00:00/low_cloud_cover:p/50,0_45,5:1,1/bin?connector=python_2.0.1 (username = python-community)\n",
      "2019-04-10 14:11:51| INFO |Calling URL: https://api.meteomatics.com/2019-04-11T12:11:51.537406+00:00/precip_1h:mm/50,0_45,5:1,1/bin?connector=python_2.0.1 (username = python-community)\n",
      "2019-04-10 14:11:51| INFO |Calling URL: https://api.meteomatics.com/2019-04-11T12:11:51.537406+00:00/low_cloud_cover:p/50,0_45,5:1,1/bin?connector=python_2.0.1 (username = python-community)\n",
      "2019-04-10 14:11:52| INFO |Calling URL: https://api.meteomatics.com/2019-04-12T12:11:51.537414+00:00/precip_1h:mm/50,0_45,5:1,1/bin?connector=python_2.0.1 (username = python-community)\n",
      "2019-04-10 14:11:52| INFO |Calling URL: https://api.meteomatics.com/2019-04-12T12:11:51.537414+00:00/low_cloud_cover:p/50,0_45,5:1,1/bin?connector=python_2.0.1 (username = python-community)\n",
      "                                     precip_1h:mm  low_cloud_cover:p\n",
      "valid_date                 lat  lon                                 \n",
      "2019-04-10 12:11:51.537403 45.0 0.0          0.00               20.0\n",
      "                                1.0          0.00               53.1\n",
      "                                2.0          3.56               86.9\n",
      "                                3.0          0.02               30.0\n",
      "                                4.0          0.00               89.1\n"
     ]
    }
   ],
   "source": [
    "print(\"unpivoted grid:\")\n",
    "try:\n",
    "    df_grid_unpivoted = api.query_grid_unpivoted(valid_dates_unpiv, parameters_grid_unpiv, lat_N, lon_W, lat_S,\n",
    "                                                 lon_E, res_lat, res_lon, username, password)\n",
    "    print (df_grid_unpivoted.head())\n",
    "except Exception as e:\n",
    "    print(\"Failed, the exception is {}\".format(e))"
   ]
  },
  {
   "cell_type": "markdown",
   "metadata": {},
   "source": [
    "As output you get a pandas dataframe. The date, latitude and longitude are in the index, the parameter is a column name. This is similar to 01_timeseries, but it applies to a grid and not just to certain data points. It is also the same as 03_grid_timeseries, but the grid is ordered in a different way.\n",
    "\n",
    "![04_unpivoted_grid_output](api_demo_images/04_unpivoted_grid_output.png)"
   ]
  },
  {
   "cell_type": "markdown",
   "metadata": {},
   "source": [
    "Now you can work on the data by using pandas commands. Here are some examples how you can access to the different datapoints."
   ]
  },
  {
   "cell_type": "code",
   "execution_count": null,
   "metadata": {
    "collapsed": true
   },
   "outputs": [],
   "source": [
    "maximum_temperature = df_grid_unpivoted['t_2m:C'].max()\n",
    "minimum_temperature = df_grid_unpivoted['t_2m:C'].min()\n",
    "mean_temperature = df_grid_unpivoted['t_2m:C'].mean()\n",
    "just_precipitation = df_grid_unpivoted['precip_1h:mm']\n",
    "first_value_of_precipitation = df_grid_unpivoted.iloc[0]['precip_1h:mm']"
   ]
  }
 ],
 "metadata": {
  "kernelspec": {
   "display_name": "Python 2",
   "language": "python",
   "name": "python2"
  },
  "language_info": {
   "codemirror_mode": {
    "name": "ipython",
    "version": 2
   },
   "file_extension": ".py",
   "mimetype": "text/x-python",
   "name": "python",
   "nbconvert_exporter": "python",
   "pygments_lexer": "ipython2",
   "version": "2.7.15"
  }
 },
 "nbformat": 4,
 "nbformat_minor": 2
}
