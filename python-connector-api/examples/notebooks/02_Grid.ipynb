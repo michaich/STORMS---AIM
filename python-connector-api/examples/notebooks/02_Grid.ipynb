{
 "cells": [
  {
   "cell_type": "markdown",
   "metadata": {},
   "source": [
    "# Grid"
   ]
  },
  {
   "cell_type": "markdown",
   "metadata": {},
   "source": [
    "First you have to import the meteomatics module and the datetime module"
   ]
  },
  {
   "cell_type": "code",
   "execution_count": 1,
   "metadata": {
    "collapsed": true
   },
   "outputs": [],
   "source": [
    "import datetime as dt\n",
    "import meteomatics.api as api"
   ]
  },
  {
   "cell_type": "markdown",
   "metadata": {},
   "source": [
    "Input here your username and password from your meteomatics profile"
   ]
  },
  {
   "cell_type": "code",
   "execution_count": 2,
   "metadata": {
    "collapsed": true
   },
   "outputs": [],
   "source": [
    "###Credentials:\n",
    "username = 'python-community'\n",
    "password = 'Umivipawe179'"
   ]
  },
  {
   "cell_type": "markdown",
   "metadata": {},
   "source": [
    "Input here the limiting coordinates of the extract you want to look at. You can also change the resolution."
   ]
  },
  {
   "cell_type": "code",
   "execution_count": 3,
   "metadata": {
    "collapsed": true
   },
   "outputs": [],
   "source": [
    "lat_N = 50\n",
    "lon_W = -5\n",
    "lat_S = 40\n",
    "lon_E = 5\n",
    "res_lat = 0.5\n",
    "res_lon = 0.5"
   ]
  },
  {
   "cell_type": "markdown",
   "metadata": {},
   "source": [
    "Input here the date and the time."
   ]
  },
  {
   "cell_type": "code",
   "execution_count": 4,
   "metadata": {
    "collapsed": true
   },
   "outputs": [],
   "source": [
    "startdate_grid = dt.datetime.utcnow().replace(hour=0, minute=0, second=0, microsecond=0)"
   ]
  },
  {
   "cell_type": "markdown",
   "metadata": {},
   "source": [
    "Choose the parameter you want to get. You can only chose one parameter at a time. Check here which parameters are available: https://www.meteomatics.com/en/api/available-parameters/"
   ]
  },
  {
   "cell_type": "code",
   "execution_count": 5,
   "metadata": {
    "collapsed": true
   },
   "outputs": [],
   "source": [
    "parameter_grid = 'low_cloud_cover:p'"
   ]
  },
  {
   "cell_type": "markdown",
   "metadata": {},
   "source": [
    "In the following, the request will start. If there is an error in the request as for example a wrong parameter or a date that doesn't exist, you get a message."
   ]
  },
  {
   "cell_type": "code",
   "execution_count": 6,
   "metadata": {
    "scrolled": true
   },
   "outputs": [
    {
     "name": "stdout",
     "output_type": "stream",
     "text": [
      "\n",
      "grid:\n",
      "2019-05-08 11:05:01| INFO |Calling URL: https://api.meteomatics.com/2019-05-08T00:00:00+00:00/low_cloud_cover:p/50,-5_40,5:0.5,0.5/bin?connector=python_2.0.1 (username = python-community)\n",
      "lon    -5.0   -4.5   -4.0   -3.5   -3.0   -2.5   -2.0   -1.5   -1.0   -0.5  \\\n",
      "lat                                                                          \n",
      "50.0  100.0  100.0  100.0  100.0  100.0  100.0  100.0  100.0  100.0  100.0   \n",
      "49.5  100.0   94.9  100.0  100.0  100.0  100.0  100.0  100.0  100.0  100.0   \n",
      "49.0  100.0   89.8  100.0  100.0  100.0  100.0  100.0  100.0  100.0  100.0   \n",
      "48.5  100.0  100.0  100.0   99.6   77.3   99.6   93.0   74.6   93.8  100.0   \n",
      "48.0   93.8  100.0  100.0  100.0  100.0   93.8  100.0  100.0   82.8  100.0   \n",
      "\n",
      "lon   ...     0.5    1.0    1.5    2.0    2.5    3.0    3.5   4.0   4.5   5.0  \n",
      "lat   ...                                                                      \n",
      "50.0  ...   100.0  100.0   89.1   54.7   28.9   10.9    0.0   0.0   0.0   1.6  \n",
      "49.5  ...   100.0   81.2   79.7   96.1   98.8   21.1   16.8   0.0   0.0   0.0  \n",
      "49.0  ...    98.4   84.4   99.2  100.0   75.0  100.0   82.8  42.2  21.9   3.1  \n",
      "48.5  ...   100.0   71.1   67.2  100.0   98.8   91.4  100.0  92.2  99.6   0.0  \n",
      "48.0  ...   100.0  100.0  100.0   93.8  100.0  100.0  100.0  98.4  98.4   0.0  \n",
      "\n",
      "[5 rows x 21 columns]\n"
     ]
    }
   ],
   "source": [
    "print(\"grid:\")\n",
    "try:\n",
    "    df_grid = api.query_grid(startdate_grid, parameter_grid, lat_N, lon_W, lat_S, lon_E, res_lat, res_lon,\n",
    "                             username, password)\n",
    "    print (df_grid.head())\n",
    "except Exception as e:\n",
    "    print(\"Failed, the exception is {}\".format(e))"
   ]
  },
  {
   "cell_type": "markdown",
   "metadata": {},
   "source": [
    "As output you get a pandas dataframe. The index consists of the latitude, the columns of the longitude.\n",
    "\n",
    "![02_grid_output](api_demo_images/02_grid_output.png)"
   ]
  },
  {
   "cell_type": "markdown",
   "metadata": {},
   "source": [
    "Now you can work on the data by using pandas commands. Here are some examples how you can access to the different datapoints."
   ]
  },
  {
   "cell_type": "code",
   "execution_count": 7,
   "metadata": {
    "collapsed": true
   },
   "outputs": [],
   "source": [
    "maximum = df_grid.values.max()\n",
    "minimum = df_grid.values.min()\n",
    "mean = df_grid.values.mean()\n",
    "at_this_location = df_grid.loc[48.5, 3]\n",
    "at_this_longitude = df_grid.loc[48.5, :]\n",
    "at_this_latitude = df_grid.loc[:, 3]"
   ]
  }
 ],
 "metadata": {
  "kernelspec": {
   "display_name": "Python 2",
   "language": "python",
   "name": "python2"
  },
  "language_info": {
   "codemirror_mode": {
    "name": "ipython",
    "version": 2.0
   },
   "file_extension": ".py",
   "mimetype": "text/x-python",
   "name": "python",
   "nbconvert_exporter": "python",
   "pygments_lexer": "ipython2",
   "version": "2.7.15"
  }
 },
 "nbformat": 4,
 "nbformat_minor": 0
}