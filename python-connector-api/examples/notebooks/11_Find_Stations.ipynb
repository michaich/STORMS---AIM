{
 "cells": [
  {
   "cell_type": "markdown",
   "metadata": {},
   "source": [
    "# Find Stations"
   ]
  },
  {
   "cell_type": "markdown",
   "metadata": {},
   "source": [
    "First you have to import the meteomatics module and the datetime module"
   ]
  },
  {
   "cell_type": "code",
   "execution_count": 1,
   "metadata": {
    "collapsed": true
   },
   "outputs": [],
   "source": [
    "import datetime as dt\n",
    "import meteomatics.api as api"
   ]
  },
  {
   "cell_type": "markdown",
   "metadata": {},
   "source": [
    "Input here your username and password from your meteomatics profile"
   ]
  },
  {
   "cell_type": "code",
   "execution_count": 2,
   "metadata": {
    "collapsed": true
   },
   "outputs": [],
   "source": [
    "###Credentials:\n",
    "username = 'python-community'\n",
    "password = 'Umivipawe179'"
   ]
  },
  {
   "cell_type": "markdown",
   "metadata": {},
   "source": [
    "Input here a startdate, an enddate and the time interval, all as datetime-objects. The interval tells you, if you get the data in hourly steps, daily steps or every five minutes in between the startdate and the enddate. Make sure that the enddate is not in the future, because there are no station measurements from the future."
   ]
  },
  {
   "cell_type": "code",
   "execution_count": 3,
   "metadata": {
    "collapsed": true,
    "scrolled": false
   },
   "outputs": [],
   "source": [
    "startdate_station_ts = dt.datetime.utcnow().replace(hour=0, minute=0, second=0, microsecond=0)-dt.timedelta(days=2)\n",
    "enddate_station_ts = startdate_station_ts + dt.timedelta(days=1)\n",
    "interval_station_ts = dt.timedelta(hours=1)"
   ]
  },
  {
   "cell_type": "markdown",
   "metadata": {},
   "source": [
    "Choose the parameters you want to get and put them into a list. Check here which parameters are available: https://www.meteomatics.com/en/api/available-parameters/"
   ]
  },
  {
   "cell_type": "code",
   "execution_count": 4,
   "metadata": {
    "collapsed": true
   },
   "outputs": [],
   "source": [
    "parameters_station_ts = ['t_2m:C']"
   ]
  },
  {
   "cell_type": "markdown",
   "metadata": {},
   "source": [
    "Optional: Input here an elevation (height above sea level). It will look first for stations that are close to this height."
   ]
  },
  {
   "cell_type": "code",
   "execution_count": 5,
   "metadata": {
    "collapsed": true
   },
   "outputs": [],
   "source": [
    "elevation = 1300"
   ]
  },
  {
   "cell_type": "markdown",
   "metadata": {},
   "source": [
    "Optional: Define here a location, from where you are looking for a station. \n",
    "There are different possibilities to define the location in this query:\n",
    "+ location = “lat,lon” ex: location = ‘47,8’\n",
    "+ location = “lat_max,lon_min_lat_min,lon_max” ex: location = ‘47,8_40,15’ (This covers an area from 40°N to 47°N and from 8°E to 15°E)\n",
    "+ location = ”predefined area” ex: location = ‘uk’\n",
    "\n",
    "Pay attention: In contrary to other queries, the coordinates have to be in the form of strings without spaces in between."
   ]
  },
  {
   "cell_type": "code",
   "execution_count": 6,
   "metadata": {
    "collapsed": true,
    "scrolled": true
   },
   "outputs": [],
   "source": [
    "location = '47,9_46,10'"
   ]
  },
  {
   "cell_type": "markdown",
   "metadata": {},
   "source": [
    "In the following, the request will start. If there is an error in the request as for example a wrong parameter or a date that doesn't exist, you get a message."
   ]
  },
  {
   "cell_type": "code",
   "execution_count": 7,
   "metadata": {
    "scrolled": false
   },
   "outputs": [
    {
     "name": "stdout",
     "output_type": "stream",
     "text": [
      "\n",
      "find stations:\n",
      "2019-03-20 14:31:45| INFO |Calling URL: https://api.meteomatics.com/find_station?parameters=t_2m:C&startdate=2019-03-18T00Z&enddate=2019-03-19T00Z&location=47,9_46,10&elevation=1300 (username = python-community)\n",
      "  Station Category Station Type     ID Hash   WMO ID Alternative IDs  \\\n",
      "0            SYNOP         SYNO   749326929      NaN             VLS   \n",
      "1            SYNOP         SYNO  2557177498      NaN             LAT   \n",
      "2            SYNOP         SYNO  3299121550      NaN             VIO   \n",
      "3            SYNOP         SYNO   944085932      NaN             VAB   \n",
      "4            SYNOP         SYNA  2220442281  67840.0             NaN   \n",
      "\n",
      "            Name Elevation            Start Date              End Date  \\\n",
      "0           Vals     1242m  2017-02-28T23:00:00Z  2019-03-20T12:10:00Z   \n",
      "1  Bergün/Latsch     1407m  2017-02-28T23:00:00Z  2019-03-20T12:10:00Z   \n",
      "2    Vicosoprano     1089m  2017-02-28T23:00:00Z  2019-03-20T12:10:00Z   \n",
      "3       Valbella     1569m  2017-02-28T23:00:00Z  2019-03-20T12:10:00Z   \n",
      "4          Davos     1592m  2017-01-01T00:00:00Z  2019-03-20T13:00:00Z   \n",
      "\n",
      "   Horizontal Distance  Vertical Distance  Effective Distance      lat  \\\n",
      "0                 -999                -58             6734.33  46.6278   \n",
      "1                 -999                107            13267.70  46.6273   \n",
      "2                 -999               -211            27134.30  46.3530   \n",
      "3                 -999                269            34867.70  46.7550   \n",
      "4                 -999                292            37934.30  46.8200   \n",
      "\n",
      "       lon  \n",
      "0  9.18870  \n",
      "1  9.75369  \n",
      "2  9.62778  \n",
      "3  9.55441  \n",
      "4  9.85000  \n"
     ]
    }
   ],
   "source": [
    "print(\"find stations:\")\n",
    "try:\n",
    "    met = api.query_station_list(username, password, startdate=startdate_station_ts, enddate=enddate_station_ts,\n",
    "                                 parameters=parameters_station_ts, location=location, elevation=elevation)\n",
    "    print(met.head())\n",
    "except Exception as e:\n",
    "    print(\"Failed, the exception is {}\".format(e))"
   ]
  },
  {
   "cell_type": "markdown",
   "metadata": {},
   "source": [
    "As output you get a pandas dataframe filled with stations. The best matching stations to your request appear on top.\n",
    "\n",
    "![11_find_stations_output](api_demo_images/11_find_stations_output.png)"
   ]
  },
  {
   "cell_type": "markdown",
   "metadata": {},
   "source": [
    "Now you can work on the data by using pandas commands. Here are some examples how you can access to the different datapoints."
   ]
  },
  {
   "cell_type": "code",
   "execution_count": null,
   "metadata": {
    "collapsed": true
   },
   "outputs": [],
   "source": [
    "best_fitting_station = met.iloc[0]\n",
    "name_of_best_fitting_station = met.loc[0, 'Name']\n",
    "station_with_least_vertical_distance = met.iloc[abs(met['Vertical Distance']).idxmin()]"
   ]
  }
 ],
 "metadata": {
  "kernelspec": {
   "display_name": "Python 2",
   "language": "python",
   "name": "python2"
  },
  "language_info": {
   "codemirror_mode": {
    "name": "ipython",
    "version": 2
   },
   "file_extension": ".py",
   "mimetype": "text/x-python",
   "name": "python",
   "nbconvert_exporter": "python",
   "pygments_lexer": "ipython2",
   "version": "2.7.15"
  }
 },
 "nbformat": 4,
 "nbformat_minor": 2
}
