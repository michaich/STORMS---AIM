{
 "cells": [
  {
   "cell_type": "markdown",
   "metadata": {},
   "source": [
    "# Lightning strikes"
   ]
  },
  {
   "cell_type": "markdown",
   "metadata": {},
   "source": [
    "First you have to import the meteomatics module and the datetime module"
   ]
  },
  {
   "cell_type": "code",
   "execution_count": 2,
   "metadata": {},
   "outputs": [],
   "source": [
    "import datetime as dt\n",
    "import meteomatics.api as api"
   ]
  },
  {
   "cell_type": "markdown",
   "metadata": {},
   "source": [
    "Input here your username and password from your meteomatics profile"
   ]
  },
  {
   "cell_type": "code",
   "execution_count": 3,
   "metadata": {},
   "outputs": [],
   "source": [
    "###Credentials:\n",
    "username = 'python-community'\n",
    "password = 'Umivipawe179'"
   ]
  },
  {
   "cell_type": "markdown",
   "metadata": {},
   "source": [
    "Define a starting and an ending datetime"
   ]
  },
  {
   "cell_type": "code",
   "execution_count": 4,
   "metadata": {},
   "outputs": [],
   "source": [
    "startdate_l = dt.datetime(2018, 8, 1, 0, 0, 0)\n",
    "enddate_l = dt.datetime(2018, 8, 1, 6, 0, 0)"
   ]
  },
  {
   "cell_type": "markdown",
   "metadata": {},
   "source": [
    "Input here the limiting coordinates of the extract you want to look at."
   ]
  },
  {
   "cell_type": "code",
   "execution_count": 5,
   "metadata": {},
   "outputs": [],
   "source": [
    "lat_N_l = 50\n",
    "lon_W_l = -5\n",
    "lat_S_l = 40\n",
    "lon_E_l = 5"
   ]
  },
  {
   "cell_type": "markdown",
   "metadata": {},
   "source": [
    "In the following, the request will start. If there is an error in the request as for example a wrong parameter or a date that doesn't exist, you get a message."
   ]
  },
  {
   "cell_type": "code",
   "execution_count": 6,
   "metadata": {
    "scrolled": false
   },
   "outputs": [
    {
     "name": "stdout",
     "output_type": "stream",
     "text": [
      "\n",
      "lightning strikes:\n",
      "2019-05-21 14:53:18| INFO |Calling URL: https://api.meteomatics.com/get_lightning_list?time_range=2018-08-01T00:00:00+00:00--2018-08-01T06:00:00+00:00&bounding_box=50,-5_40,5&format=csv (username = python-community)\n",
      "Failed, the exception is Request with valid date 2018-08-01 00:00:00 requires historic data access before 2019-05-20 00:00:00, which is not granted with this subscription type (e.g. trial). The valid time period for this account type starts at 2019-05-20 00:00:00. Please contact sales@meteomatics.com and we are happy to provide an extended trial or an upgrade of your account.\n"
     ]
    }
   ],
   "source": [
    "print(\"lightning strikes:\")\n",
    "try:\n",
    "    df_lightning = api.query_lightnings(startdate_l, enddate_l, lat_N_l, lon_W_l, lat_S_l, lon_E_l, username,\n",
    "                                        password)\n",
    "    print(df_lightning.head())\n",
    "except Exception as e:\n",
    "    print(\"Failed, the exception is {}\".format(e))"
   ]
  },
  {
   "cell_type": "markdown",
   "metadata": {},
   "source": [
    "You will get the data as a pandas dataframe. The index is made out of the validate, the latitude and the longitude. The column represents the stroke current. There are just events with lightning in the data frame. The time and points without lightning are not mentioned.\n",
    "\n",
    "![07_lightning_strikes_output](api_demo_images/07_lightning_strikes_output.png)"
   ]
  },
  {
   "cell_type": "markdown",
   "metadata": {},
   "source": [
    "Now you can work on the data by using pandas commands. Here are some examples how you can access to the different datapoints."
   ]
  },
  {
   "cell_type": "code",
   "execution_count": null,
   "metadata": {},
   "outputs": [],
   "source": [
    "maximum_stroke = df_lightning['stroke_current:kA'].max()\n",
    "minimum_stroke = df_lightning['stroke_current:kA'].min()\n",
    "mean_stroke = df_lightning['stroke_current:kA'].mean()\n",
    "first_value = df_lightning.iloc[0]['stroke_current:kA']\n",
    "just_after_18UTC = df_lightning[df_lightning.index.get_level_values('validdate').hour >= 18]"
   ]
  }
 ],
 "metadata": {
  "kernelspec": {
   "display_name": "Python 2",
   "language": "python",
   "name": "python2"
  },
  "language_info": {
   "codemirror_mode": {
    "name": "ipython",
    "version": 2
   },
   "file_extension": ".py",
   "mimetype": "text/x-python",
   "name": "python",
   "nbconvert_exporter": "python",
   "pygments_lexer": "ipython2",
   "version": "2.7.15"
  }
 },
 "nbformat": 4,
 "nbformat_minor": 2
}
