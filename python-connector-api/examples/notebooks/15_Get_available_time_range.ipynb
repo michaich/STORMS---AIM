{
 "cells": [
  {
   "cell_type": "markdown",
   "metadata": {},
   "source": [
    "# Get available time range"
   ]
  },
  {
   "cell_type": "markdown",
   "metadata": {},
   "source": [
    "First you have to import the meteomatics module and the datetime module"
   ]
  },
  {
   "cell_type": "code",
   "execution_count": 1,
   "metadata": {
    "collapsed": true
   },
   "outputs": [],
   "source": [
    "import datetime as dt\n",
    "import meteomatics.api as api"
   ]
  },
  {
   "cell_type": "markdown",
   "metadata": {},
   "source": [
    "Input here your username and password from your meteomatics profile"
   ]
  },
  {
   "cell_type": "code",
   "execution_count": 2,
   "metadata": {
    "collapsed": true
   },
   "outputs": [],
   "source": [
    "###Credentials:\n",
    "username = 'python-community'\n",
    "password = 'Umivipawe179'"
   ]
  },
  {
   "cell_type": "markdown",
   "metadata": {},
   "source": [
    "Here we have no direct changes through parameters, but you can make some adjustments directly in the query. There you can change the list of parameters and the model. If there is an error in the request as for example a wrong parameter or a date that doesn't exist, you get a message. Note, that this model is not available for the 'python-community' trial account."
   ]
  },
  {
   "cell_type": "code",
   "execution_count": 3,
   "metadata": {
    "scrolled": true
   },
   "outputs": [
    {
     "name": "stdout",
     "output_type": "stream",
     "text": [
      "\n",
      "get available time ranges:\n",
      "2019-04-10 14:22:56| INFO |Calling URL: https://api.meteomatics.com/get_time_range?model=ukmo-euro4&parameters=t_2m:C,precip_6h:mm,relative_humidity_2m:p (username = python-community)\n",
      "Failed, the exception is Request with model ukmo-euro4 is not granted with this subscription type (e.g. trial). Access for this account type is limited to model 'mix'. Please contact sales@meteomatics.com for an extended trial or an upgrade of your account.\n"
     ]
    }
   ],
   "source": [
    "print(\"get available time ranges:\")\n",
    "try:\n",
    "    df_time_ranges = api.query_available_time_ranges(['t_2m:C', 'precip_6h:mm', 'relative_humidity_2m:p'], username,\n",
    "                                                     password, 'ukmo-euro4')\n",
    "    print(df_time_ranges.head())\n",
    "except Exception as e:\n",
    "    print(\"Failed, the exception is {}\".format(e))"
   ]
  },
  {
   "cell_type": "markdown",
   "metadata": {},
   "source": [
    "As output you get a pandas dataframe which shows the initial date of the parameter in the model and the last date available.\n",
    "\n",
    "![15_get_available_time_range_output](api_demo_images/15_get_available_time_range_output.png)"
   ]
  }
 ],
 "metadata": {
  "kernelspec": {
   "display_name": "Python 2",
   "language": "python",
   "name": "python2"
  },
  "language_info": {
   "codemirror_mode": {
    "name": "ipython",
    "version": 2
   },
   "file_extension": ".py",
   "mimetype": "text/x-python",
   "name": "python",
   "nbconvert_exporter": "python",
   "pygments_lexer": "ipython2",
   "version": "2.7.15"
  }
 },
 "nbformat": 4,
 "nbformat_minor": 2
}
